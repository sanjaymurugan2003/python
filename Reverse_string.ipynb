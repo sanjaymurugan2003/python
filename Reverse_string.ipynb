{
  "nbformat": 4,
  "nbformat_minor": 0,
  "metadata": {
    "colab": {
      "name": "Reverse string.ipynb",
      "provenance": [],
      "authorship_tag": "ABX9TyO6ZoCk/Hma6x0T6KW+gs6c",
      "include_colab_link": true
    },
    "kernelspec": {
      "name": "python3",
      "display_name": "Python 3"
    },
    "language_info": {
      "name": "python"
    }
  },
  "cells": [
    {
      "cell_type": "markdown",
      "metadata": {
        "id": "view-in-github",
        "colab_type": "text"
      },
      "source": [
        "<a href=\"https://colab.research.google.com/github/sanjaymurugan2003/python/blob/main/Reverse_string.ipynb\" target=\"_parent\"><img src=\"https://colab.research.google.com/assets/colab-badge.svg\" alt=\"Open In Colab\"/></a>"
      ]
    },
    {
      "cell_type": "code",
      "metadata": {
        "colab": {
          "base_uri": "https://localhost:8080/"
        },
        "id": "ygMHLCkNskGp",
        "outputId": "261d05f6-3aab-44a2-ac87-f05df957981c"
      },
      "source": [
        "a=(input(\"Enter Sentence : \"))\n",
        "b=a[::-1]\n",
        "print(\"Reverse Sentence\")\n",
        "print(\"\\n\",b)"
      ],
      "execution_count": 1,
      "outputs": [
        {
          "output_type": "stream",
          "text": [
            "Enter Sentence : Sanjay\n",
            "Reverse Sentence\n",
            "\n",
            " yajnaS\n"
          ],
          "name": "stdout"
        }
      ]
    }
  ]
}