{
  "nbformat": 4,
  "nbformat_minor": 0,
  "metadata": {
    "colab": {
      "name": "Simple interest.ipynb",
      "provenance": [],
      "authorship_tag": "ABX9TyMjhgLUVKgNEyD5T8CTWbZl",
      "include_colab_link": true
    },
    "kernelspec": {
      "name": "python3",
      "display_name": "Python 3"
    },
    "language_info": {
      "name": "python"
    }
  },
  "cells": [
    {
      "cell_type": "markdown",
      "metadata": {
        "id": "view-in-github",
        "colab_type": "text"
      },
      "source": [
        "<a href=\"https://colab.research.google.com/github/sanjaymurugan2003/python/blob/main/Simple_interest.ipynb\" target=\"_parent\"><img src=\"https://colab.research.google.com/assets/colab-badge.svg\" alt=\"Open In Colab\"/></a>"
      ]
    },
    {
      "cell_type": "code",
      "metadata": {
        "colab": {
          "base_uri": "https://localhost:8080/"
        },
        "id": "dtXCUVnUF0Lf",
        "outputId": "3576b0fd-b01b-4706-806f-739ad720083e"
      },
      "source": [
        "P = float(input(\"Enter the principal amount : \"))\n",
        " \n",
        "N = float(input(\"Enter the number of years : \"))\n",
        " \n",
        "R = float(input(\"Enter the rate of interest : \"))\n",
        " \n",
        "#calculate simple interest by using this formula\n",
        "SI = (P * N * R)/100\n",
        " \n",
        "#print\n",
        "print(\"Simple interest : {}\".format(SI))"
      ],
      "execution_count": 1,
      "outputs": [
        {
          "output_type": "stream",
          "text": [
            "Enter the principal amount : 1000\n",
            "Enter the number of years : 3\n",
            "Enter the rate of interest : 0.02\n",
            "Simple interest : 0.6\n"
          ],
          "name": "stdout"
        }
      ]
    }
  ]
}