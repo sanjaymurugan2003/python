{
  "nbformat": 4,
  "nbformat_minor": 0,
  "metadata": {
    "colab": {
      "name": "Personal information.ipynb",
      "provenance": [],
      "authorship_tag": "ABX9TyNoHbx76JQqXqfAcIyUZW7+",
      "include_colab_link": true
    },
    "kernelspec": {
      "name": "python3",
      "display_name": "Python 3"
    },
    "language_info": {
      "name": "python"
    }
  },
  "cells": [
    {
      "cell_type": "markdown",
      "metadata": {
        "id": "view-in-github",
        "colab_type": "text"
      },
      "source": [
        "<a href=\"https://colab.research.google.com/github/sanjaymurugan2003/python/blob/main/Personal_information.ipynb\" target=\"_parent\"><img src=\"https://colab.research.google.com/assets/colab-badge.svg\" alt=\"Open In Colab\"/></a>"
      ]
    },
    {
      "cell_type": "code",
      "metadata": {
        "colab": {
          "base_uri": "https://localhost:8080/"
        },
        "id": "BiHK9ZGZr69j",
        "outputId": "84dd7faa-9db0-43bb-82f8-af3fb8100fce"
      },
      "source": [
        "name=(input(\"Enter your Name : \"))\n",
        "age=(input(\"Enter your Age : \"))\n",
        "address=(input(\"Enter your Address : \"))\n",
        "salary=(input(\"Enter your Salary : \"))\n",
        "no=(input(\"Enter your Mobile Number\"))\n",
        "print(\"NAME :\",name)\n",
        "print(\"\\nAGE :\",age)\n",
        "print(\"\\nADDRESS :\",address)\n",
        "print(\"\\nSALARY :\",salary)\n",
        "print(\"\\nMOBILE NUMBER :\",no)"
      ],
      "execution_count": 1,
      "outputs": [
        {
          "output_type": "stream",
          "text": [
            "Enter your Name : Sanjay\n",
            "Enter your Age : 18\n",
            "Enter your Address : Attur\n",
            "Enter your Salary : 100000\n",
            "Enter your Mobile Number8015906857\n",
            "NAME : Sanjay\n",
            "\n",
            "AGE : 18\n",
            "\n",
            "ADDRESS : Attur\n",
            "\n",
            "SALARY : 100000\n",
            "\n",
            "MOBILE NUMBER : 8015906857\n"
          ],
          "name": "stdout"
        }
      ]
    }
  ]
}